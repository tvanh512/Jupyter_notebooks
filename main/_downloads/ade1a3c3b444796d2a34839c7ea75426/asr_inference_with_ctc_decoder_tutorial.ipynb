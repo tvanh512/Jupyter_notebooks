{
  "cells": [
    {
      "cell_type": "markdown",
      "metadata": {
        "id": "Z3JSff2qvexr"
      },
      "source": [
        "\n",
        "# ASR Inference with CTC Decoder\n",
        "\n",
        "**Author**: [Caroline Chen](carolinechen@meta.com)_\n",
        "\n",
        "This tutorial shows how to perform speech recognition inference using a\n",
        "CTC beam search decoder with lexicon constraint and KenLM language model\n",
        "support. We demonstrate this on a pretrained wav2vec 2.0 model trained\n",
        "using CTC loss.\n"
      ]
    },
    {
      "cell_type": "markdown",
      "metadata": {
        "id": "-cjYUwhrvext"
      },
      "source": [
        "## Overview\n",
        "\n",
        "Beam search decoding works by iteratively expanding text hypotheses (beams)\n",
        "with next possible characters, and maintaining only the hypotheses with the\n",
        "highest scores at each time step. A language model can be incorporated into\n",
        "the scoring computation, and adding a lexicon constraint restricts the\n",
        "next possible tokens for the hypotheses so that only words from the lexicon\n",
        "can be generated.\n",
        "\n",
        "The underlying implementation is ported from [Flashlight](https://arxiv.org/pdf/2201.12465.pdf)_'s\n",
        "beam search decoder. A mathematical formula for the decoder optimization can be\n",
        "found in the [Wav2Letter paper](https://arxiv.org/pdf/1609.03193.pdf)_, and\n",
        "a more detailed algorithm can be found in this [blog](https://towardsdatascience.com/boosting-your-sequence-generation-performance-with-beam-search-language-model-decoding-74ee64de435a)_.\n",
        "\n",
        "Running ASR inference using a CTC Beam Search decoder with a language\n",
        "model and lexicon constraint requires the following components\n",
        "\n",
        "-  Acoustic Model: model predicting phonetics from audio waveforms\n",
        "-  Tokens: the possible predicted tokens from the acoustic model\n",
        "-  Lexicon: mapping between possible words and their corresponding\n",
        "   tokens sequence\n",
        "-  Language Model (LM): n-gram language model trained with the [KenLM\n",
        "   library](https://kheafield.com/code/kenlm/)_, or custom language\n",
        "   model that inherits :py:class:`~torchaudio.models.decoder.CTCDecoderLM`\n",
        "\n",
        "\n"
      ]
    },
    {
      "cell_type": "markdown",
      "metadata": {
        "id": "Q7ZpAxl9vexu"
      },
      "source": [
        "## Acoustic Model and Set Up\n",
        "\n",
        "First we import the necessary utilities and fetch the data that we are\n",
        "working with\n",
        "\n",
        "\n"
      ]
    },
    {
      "cell_type": "code",
      "execution_count": null,
      "metadata": {
        "id": "bnPm9xGLvexu"
      },
      "outputs": [],
      "source": [
        "import torch\n",
        "import torchaudio\n",
        "\n",
        "print(torch.__version__)\n",
        "print(torchaudio.__version__)"
      ]
    },
    {
      "cell_type": "code",
      "execution_count": null,
      "metadata": {
        "id": "bifvK0Hivexv"
      },
      "outputs": [],
      "source": [
        "import time\n",
        "from typing import List\n",
        "\n",
        "import IPython\n",
        "import matplotlib.pyplot as plt\n",
        "from torchaudio.models.decoder import ctc_decoder\n",
        "from torchaudio.utils import download_asset"
      ]
    },
    {
      "cell_type": "markdown",
      "metadata": {
        "id": "fNc79-4mvexv"
      },
      "source": [
        "We use the pretrained [Wav2Vec 2.0](https://arxiv.org/abs/2006.11477)_\n",
        "Base model that is finetuned on 10 min of the [LibriSpeech\n",
        "dataset](http://www.openslr.org/12)_, which can be loaded in using\n",
        ":data:`torchaudio.pipelines.WAV2VEC2_ASR_BASE_10M`.\n",
        "For more detail on running Wav2Vec 2.0 speech\n",
        "recognition pipelines in torchaudio, please refer to [this\n",
        "tutorial](./speech_recognition_pipeline_tutorial.html)_.\n",
        "\n",
        "\n"
      ]
    },
    {
      "cell_type": "code",
      "execution_count": null,
      "metadata": {
        "id": "2BrNl8dmvexw"
      },
      "outputs": [],
      "source": [
        "bundle = torchaudio.pipelines.WAV2VEC2_ASR_BASE_10M\n",
        "acoustic_model = bundle.get_model()"
      ]
    },
    {
      "cell_type": "markdown",
      "metadata": {
        "id": "Z4qWhQucvexw"
      },
      "source": [
        "We will load a sample from the LibriSpeech test-other dataset.\n",
        "\n",
        "\n"
      ]
    },
    {
      "cell_type": "code",
      "execution_count": null,
      "metadata": {
        "id": "VIIZW4IYvexw"
      },
      "outputs": [],
      "source": [
        "speech_file = download_asset(\"tutorial-assets/ctc-decoding/1688-142285-0007.wav\")\n",
        "\n",
        "IPython.display.Audio(speech_file)"
      ]
    },
    {
      "cell_type": "markdown",
      "metadata": {
        "id": "qy-ZXU-rvexw"
      },
      "source": [
        "The transcript corresponding to this audio file is\n",
        "\n",
        "```\n",
        "i really was very much afraid of showing him how much shocked i was at some parts of what he said\n",
        "```\n"
      ]
    },
    {
      "cell_type": "code",
      "execution_count": null,
      "metadata": {
        "id": "82TDioWMvexw"
      },
      "outputs": [],
      "source": [
        "waveform, sample_rate = torchaudio.load(speech_file)\n",
        "\n",
        "if sample_rate != bundle.sample_rate:\n",
        "    waveform = torchaudio.functional.resample(waveform, sample_rate, bundle.sample_rate)"
      ]
    },
    {
      "cell_type": "markdown",
      "metadata": {
        "id": "hONdhbE-vexw"
      },
      "source": [
        "## Files and Data for Decoder\n",
        "\n",
        "Next, we load in our token, lexicon, and language model data, which are used\n",
        "by the decoder to predict words from the acoustic model output. Pretrained\n",
        "files for the LibriSpeech dataset can be downloaded through torchaudio,\n",
        "or the user can provide their own files.\n",
        "\n",
        "\n"
      ]
    },
    {
      "cell_type": "markdown",
      "metadata": {
        "id": "W382Rjysvexw"
      },
      "source": [
        "### Tokens\n",
        "\n",
        "The tokens are the possible symbols that the acoustic model can predict,\n",
        "including the blank and silent symbols. It can either be passed in as a\n",
        "file, where each line consists of the tokens corresponding to the same\n",
        "index, or as a list of tokens, each mapping to a unique index.\n",
        "\n",
        "```\n",
        "# tokens.txt\n",
        "_\n",
        "|\n",
        "e\n",
        "t\n",
        "...\n",
        "```\n"
      ]
    },
    {
      "cell_type": "code",
      "execution_count": null,
      "metadata": {
        "id": "agG9bYEavexx"
      },
      "outputs": [],
      "source": [
        "tokens = [label.lower() for label in bundle.get_labels()]\n",
        "print(tokens)"
      ]
    },
    {
      "cell_type": "markdown",
      "metadata": {
        "id": "VrifmLEevexx"
      },
      "source": [
        "### Lexicon\n",
        "\n",
        "The lexicon is a mapping from words to their corresponding tokens\n",
        "sequence, and is used to restrict the search space of the decoder to\n",
        "only words from the lexicon. The expected format of the lexicon file is\n",
        "a line per word, with a word followed by its space-split tokens.\n",
        "\n",
        "```\n",
        "# lexcion.txt\n",
        "a a |\n",
        "able a b l e |\n",
        "about a b o u t |\n",
        "...\n",
        "...\n",
        "```\n"
      ]
    },
    {
      "cell_type": "markdown",
      "metadata": {
        "id": "gZzBN_PGvexx"
      },
      "source": [
        "### Language Model\n",
        "\n",
        "A language model can be used in decoding to improve the results, by\n",
        "factoring in a language model score that represents the likelihood of\n",
        "the sequence into the beam search computation. Below, we outline the\n",
        "different forms of language models that are supported for decoding.\n",
        "\n",
        "\n"
      ]
    },
    {
      "cell_type": "markdown",
      "metadata": {
        "id": "lV0bq_eAvexx"
      },
      "source": [
        "#### No Language Model\n",
        "\n",
        "To create a decoder instance without a language model, set `lm=None`\n",
        "when initializing the decoder.\n",
        "\n",
        "\n"
      ]
    },
    {
      "cell_type": "markdown",
      "metadata": {
        "id": "FrBy7tVrvexx"
      },
      "source": [
        "#### KenLM\n",
        "\n",
        "This is an n-gram language model trained with the [KenLM\n",
        "library](https://kheafield.com/code/kenlm/)_. Both the ``.arpa`` or\n",
        "the binarized ``.bin`` LM can be used, but the binary format is\n",
        "recommended for faster loading.\n",
        "\n",
        "The language model used in this tutorial is a 4-gram KenLM trained using\n",
        "[LibriSpeech](http://www.openslr.org/11)_.\n",
        "\n",
        "\n"
      ]
    },
    {
      "cell_type": "markdown",
      "metadata": {
        "id": "jpoGkTQHvexx"
      },
      "source": [
        "#### Custom Language Model\n",
        "\n",
        "Users can define their own custom language model in Python, whether\n",
        "it be a statistical or neural network language model, using\n",
        ":py:class:`~torchaudio.models.decoder.CTCDecoderLM` and\n",
        ":py:class:`~torchaudio.models.decoder.CTCDecoderLMState`.\n",
        "\n",
        "For instance, the following code creates a basic wrapper around a PyTorch\n",
        "``torch.nn.Module`` language model.\n",
        "\n",
        "\n"
      ]
    },
    {
      "cell_type": "code",
      "execution_count": null,
      "metadata": {
        "id": "pKhUv6N-vexx"
      },
      "outputs": [],
      "source": [
        "from torchaudio.models.decoder import CTCDecoderLM, CTCDecoderLMState\n",
        "\n",
        "\n",
        "class CustomLM(CTCDecoderLM):\n",
        "    \"\"\"Create a Python wrapper around `language_model` to feed to the decoder.\"\"\"\n",
        "\n",
        "    def __init__(self, language_model: torch.nn.Module):\n",
        "        CTCDecoderLM.__init__(self)\n",
        "        self.language_model = language_model\n",
        "        self.sil = -1  # index for silent token in the language model\n",
        "        self.states = {}\n",
        "\n",
        "        language_model.eval()\n",
        "\n",
        "    def start(self, start_with_nothing: bool = False):\n",
        "        state = CTCDecoderLMState()\n",
        "        with torch.no_grad():\n",
        "            score = self.language_model(self.sil)\n",
        "\n",
        "        self.states[state] = score\n",
        "        return state\n",
        "\n",
        "    def score(self, state: CTCDecoderLMState, token_index: int):\n",
        "        outstate = state.child(token_index)\n",
        "        if outstate not in self.states:\n",
        "            score = self.language_model(token_index)\n",
        "            self.states[outstate] = score\n",
        "        score = self.states[outstate]\n",
        "\n",
        "        return outstate, score\n",
        "\n",
        "    def finish(self, state: CTCDecoderLMState):\n",
        "        return self.score(state, self.sil)"
      ]
    },
    {
      "cell_type": "markdown",
      "metadata": {
        "id": "rQiz7ZJavexx"
      },
      "source": [
        "#### Downloading Pretrained Files\n",
        "\n",
        "Pretrained files for the LibriSpeech dataset can be downloaded using\n",
        ":py:func:`~torchaudio.models.decoder.download_pretrained_files`.\n",
        "\n",
        "Note: this cell may take a couple of minutes to run, as the language\n",
        "model can be large\n",
        "\n",
        "\n"
      ]
    },
    {
      "cell_type": "code",
      "execution_count": null,
      "metadata": {
        "id": "YaBNntHzvexy"
      },
      "outputs": [],
      "source": [
        "from torchaudio.models.decoder import download_pretrained_files\n",
        "\n",
        "files = download_pretrained_files(\"librispeech-4-gram\")\n",
        "\n",
        "print(files)"
      ]
    },
    {
      "cell_type": "markdown",
      "metadata": {
        "id": "-iXhcidBvexy"
      },
      "source": [
        "## Construct Decoders\n",
        "In this tutorial, we construct both a beam search decoder and a greedy decoder\n",
        "for comparison.\n",
        "\n",
        "\n"
      ]
    },
    {
      "cell_type": "markdown",
      "metadata": {
        "id": "lEConEzyvexy"
      },
      "source": [
        "### Beam Search Decoder\n",
        "The decoder can be constructed using the factory function\n",
        ":py:func:`~torchaudio.models.decoder.ctc_decoder`.\n",
        "In addition to the previously mentioned components, it also takes in various beam\n",
        "search decoding parameters and token/word parameters.\n",
        "\n",
        "This decoder can also be run without a language model by passing in `None` into the\n",
        "`lm` parameter.\n",
        "\n",
        "\n"
      ]
    },
    {
      "cell_type": "code",
      "execution_count": null,
      "metadata": {
        "id": "QDxkB9Pyvexy"
      },
      "outputs": [],
      "source": [
        "LM_WEIGHT = 3.23\n",
        "WORD_SCORE = -0.26\n",
        "\n",
        "beam_search_decoder = ctc_decoder(\n",
        "    lexicon=files.lexicon,\n",
        "    tokens=files.tokens,\n",
        "    lm=files.lm,\n",
        "    nbest=3,\n",
        "    beam_size=1500,\n",
        "    lm_weight=LM_WEIGHT,\n",
        "    word_score=WORD_SCORE,\n",
        ")"
      ]
    },
    {
      "cell_type": "markdown",
      "metadata": {
        "id": "sNGlfsGlvexy"
      },
      "source": [
        "### Greedy Decoder\n",
        "\n",
        "\n"
      ]
    },
    {
      "cell_type": "code",
      "execution_count": null,
      "metadata": {
        "id": "DHQtu0_evexy"
      },
      "outputs": [],
      "source": [
        "class GreedyCTCDecoder(torch.nn.Module):\n",
        "    def __init__(self, labels, blank=0):\n",
        "        super().__init__()\n",
        "        self.labels = labels\n",
        "        self.blank = blank\n",
        "\n",
        "    def forward(self, emission: torch.Tensor) -> List[str]:\n",
        "        \"\"\"Given a sequence emission over labels, get the best path\n",
        "        Args:\n",
        "          emission (Tensor): Logit tensors. Shape `[num_seq, num_label]`.\n",
        "\n",
        "        Returns:\n",
        "          List[str]: The resulting transcript\n",
        "        \"\"\"\n",
        "        indices = torch.argmax(emission, dim=-1)  # [num_seq,]\n",
        "        indices = torch.unique_consecutive(indices, dim=-1)\n",
        "        indices = [i for i in indices if i != self.blank]\n",
        "        joined = \"\".join([self.labels[i] for i in indices])\n",
        "        return joined.replace(\"|\", \" \").strip().split()\n",
        "\n",
        "\n",
        "greedy_decoder = GreedyCTCDecoder(tokens)"
      ]
    },
    {
      "cell_type": "markdown",
      "metadata": {
        "id": "_KNBhMdFvexy"
      },
      "source": [
        "## Run Inference\n",
        "\n",
        "Now that we have the data, acoustic model, and decoder, we can perform\n",
        "inference. The output of the beam search decoder is of type\n",
        ":py:class:`~torchaudio.models.decoder.CTCHypothesis`, consisting of the\n",
        "predicted token IDs, corresponding words (if a lexicon is provided), hypothesis score,\n",
        "and timesteps corresponding to the token IDs. Recall the transcript corresponding to the\n",
        "waveform is\n",
        "\n",
        "```\n",
        "i really was very much afraid of showing him how much shocked i was at some parts of what he said\n",
        "```\n"
      ]
    },
    {
      "cell_type": "code",
      "execution_count": null,
      "metadata": {
        "id": "meoucDCovexz"
      },
      "outputs": [],
      "source": [
        "actual_transcript = \"i really was very much afraid of showing him how much shocked i was at some parts of what he said\"\n",
        "actual_transcript = actual_transcript.split()\n",
        "\n",
        "emission, _ = acoustic_model(waveform)"
      ]
    },
    {
      "cell_type": "markdown",
      "metadata": {
        "id": "hdUkaTN2vexz"
      },
      "source": [
        "The greedy decoder gives the following result.\n",
        "\n",
        "\n"
      ]
    },
    {
      "cell_type": "code",
      "execution_count": null,
      "metadata": {
        "id": "RNpHBbeSvexz"
      },
      "outputs": [],
      "source": [
        "greedy_result = greedy_decoder(emission[0])\n",
        "greedy_transcript = \" \".join(greedy_result)\n",
        "greedy_wer = torchaudio.functional.edit_distance(actual_transcript, greedy_result) / len(actual_transcript)\n",
        "\n",
        "print(f\"Transcript: {greedy_transcript}\")\n",
        "print(f\"WER: {greedy_wer}\")"
      ]
    },
    {
      "cell_type": "markdown",
      "metadata": {
        "id": "JlhtT7Oevexz"
      },
      "source": [
        "Using the beam search decoder:\n",
        "\n",
        "\n"
      ]
    },
    {
      "cell_type": "code",
      "execution_count": null,
      "metadata": {
        "id": "9sCC9dgbvexz"
      },
      "outputs": [],
      "source": [
        "beam_search_result = beam_search_decoder(emission)\n",
        "beam_search_transcript = \" \".join(beam_search_result[0][0].words).strip()\n",
        "beam_search_wer = torchaudio.functional.edit_distance(actual_transcript, beam_search_result[0][0].words) / len(\n",
        "    actual_transcript\n",
        ")\n",
        "\n",
        "print(f\"Transcript: {beam_search_transcript}\")\n",
        "print(f\"WER: {beam_search_wer}\")"
      ]
    },
    {
      "cell_type": "markdown",
      "metadata": {
        "id": "YQ64Jd4Qvexz"
      },
      "source": [
        "<div class=\"alert alert-info\"><h4>Note</h4><p>The :py:attr:`~torchaudio.models.decoder.CTCHypothesis.words`\n",
        "   field of the output hypotheses will be empty if no lexicon\n",
        "   is provided to the decoder. To retrieve a transcript with lexicon-free\n",
        "   decoding, you can perform the following to retrieve the token indices,\n",
        "   convert them to original tokens, then join them together.\n",
        "\n",
        "   .. code::\n",
        "\n",
        "      tokens_str = \"\".join(beam_search_decoder.idxs_to_tokens(beam_search_result[0][0].tokens))\n",
        "      transcript = \" \".join(tokens_str.split(\"|\"))</p></div>\n",
        "\n",
        "We see that the transcript with the lexicon-constrained beam search\n",
        "decoder produces a more accurate result consisting of real words, while\n",
        "the greedy decoder can predict incorrectly spelled words like “affrayd”\n",
        "and “shoktd”.\n",
        "\n",
        "\n"
      ]
    },
    {
      "cell_type": "markdown",
      "metadata": {
        "id": "ywdpPDRbvexz"
      },
      "source": [
        "## Timestep Alignments\n",
        "Recall that one of the components of the resulting Hypotheses is timesteps\n",
        "corresponding to the token IDs.\n",
        "\n",
        "\n"
      ]
    },
    {
      "cell_type": "code",
      "execution_count": null,
      "metadata": {
        "id": "9EvguA6kvexz"
      },
      "outputs": [],
      "source": [
        "timesteps = beam_search_result[0][0].timesteps\n",
        "predicted_tokens = beam_search_decoder.idxs_to_tokens(beam_search_result[0][0].tokens)\n",
        "\n",
        "print(predicted_tokens, len(predicted_tokens))\n",
        "print(timesteps, timesteps.shape[0])"
      ]
    },
    {
      "cell_type": "markdown",
      "metadata": {
        "id": "CSkZEJlbvexz"
      },
      "source": [
        "Below, we visualize the token timestep alignments relative to the original waveform.\n",
        "\n",
        "\n"
      ]
    },
    {
      "cell_type": "code",
      "execution_count": null,
      "metadata": {
        "id": "4TGiypeQvexz"
      },
      "outputs": [],
      "source": [
        "def plot_alignments(waveform, emission, tokens, timesteps):\n",
        "    fig, ax = plt.subplots(figsize=(32, 10))\n",
        "\n",
        "    ax.plot(waveform)\n",
        "\n",
        "    ratio = waveform.shape[0] / emission.shape[1]\n",
        "    word_start = 0\n",
        "\n",
        "    for i in range(len(tokens)):\n",
        "        if i != 0 and tokens[i - 1] == \"|\":\n",
        "            word_start = timesteps[i]\n",
        "        if tokens[i] != \"|\":\n",
        "            plt.annotate(tokens[i].upper(), (timesteps[i] * ratio, waveform.max() * 1.02), size=14)\n",
        "        elif i != 0:\n",
        "            word_end = timesteps[i]\n",
        "            ax.axvspan(word_start * ratio, word_end * ratio, alpha=0.1, color=\"red\")\n",
        "\n",
        "    xticks = ax.get_xticks()\n",
        "    plt.xticks(xticks, xticks / bundle.sample_rate)\n",
        "    ax.set_xlabel(\"time (sec)\")\n",
        "    ax.set_xlim(0, waveform.shape[0])\n",
        "\n",
        "\n",
        "plot_alignments(waveform[0], emission, predicted_tokens, timesteps)"
      ]
    },
    {
      "cell_type": "markdown",
      "metadata": {
        "id": "0I7WGOvUvex0"
      },
      "source": [
        "## Beam Search Decoder Parameters\n",
        "\n",
        "In this section, we go a little bit more in depth about some different\n",
        "parameters and tradeoffs. For the full list of customizable parameters,\n",
        "please refer to the\n",
        ":py:func:`documentation <torchaudio.models.decoder.ctc_decoder>`.\n",
        "\n",
        "\n"
      ]
    },
    {
      "cell_type": "markdown",
      "metadata": {
        "id": "0B9a1DSavex3"
      },
      "source": [
        "### Helper Function\n",
        "\n",
        "\n"
      ]
    },
    {
      "cell_type": "code",
      "execution_count": null,
      "metadata": {
        "id": "qBedeJkYvex3"
      },
      "outputs": [],
      "source": [
        "def print_decoded(decoder, emission, param, param_value):\n",
        "    start_time = time.monotonic()\n",
        "    result = decoder(emission)\n",
        "    decode_time = time.monotonic() - start_time\n",
        "\n",
        "    transcript = \" \".join(result[0][0].words).lower().strip()\n",
        "    score = result[0][0].score\n",
        "    print(f\"{param} {param_value:<3}: {transcript} (score: {score:.2f}; {decode_time:.4f} secs)\")"
      ]
    },
    {
      "cell_type": "markdown",
      "metadata": {
        "id": "M6mCkOHyvex3"
      },
      "source": [
        "### nbest\n",
        "\n",
        "This parameter indicates the number of best hypotheses to return, which\n",
        "is a property that is not possible with the greedy decoder. For\n",
        "instance, by setting ``nbest=3`` when constructing the beam search\n",
        "decoder earlier, we can now access the hypotheses with the top 3 scores.\n",
        "\n",
        "\n"
      ]
    },
    {
      "cell_type": "code",
      "execution_count": null,
      "metadata": {
        "id": "W3BYYR_1vex4"
      },
      "outputs": [],
      "source": [
        "for i in range(3):\n",
        "    transcript = \" \".join(beam_search_result[0][i].words).strip()\n",
        "    score = beam_search_result[0][i].score\n",
        "    print(f\"{transcript} (score: {score})\")"
      ]
    },
    {
      "cell_type": "markdown",
      "metadata": {
        "id": "W6dMTfnZvex4"
      },
      "source": [
        "### beam size\n",
        "\n",
        "The ``beam_size`` parameter determines the maximum number of best\n",
        "hypotheses to hold after each decoding step. Using larger beam sizes\n",
        "allows for exploring a larger range of possible hypotheses which can\n",
        "produce hypotheses with higher scores, but it is computationally more\n",
        "expensive and does not provide additional gains beyond a certain point.\n",
        "\n",
        "In the example below, we see improvement in decoding quality as we\n",
        "increase beam size from 1 to 5 to 50, but notice how using a beam size\n",
        "of 500 provides the same output as beam size 50 while increase the\n",
        "computation time.\n",
        "\n",
        "\n"
      ]
    },
    {
      "cell_type": "code",
      "execution_count": null,
      "metadata": {
        "id": "bBgBEEWAvex4"
      },
      "outputs": [],
      "source": [
        "beam_sizes = [1, 5, 50, 500]\n",
        "\n",
        "for beam_size in beam_sizes:\n",
        "    beam_search_decoder = ctc_decoder(\n",
        "        lexicon=files.lexicon,\n",
        "        tokens=files.tokens,\n",
        "        lm=files.lm,\n",
        "        beam_size=beam_size,\n",
        "        lm_weight=LM_WEIGHT,\n",
        "        word_score=WORD_SCORE,\n",
        "    )\n",
        "\n",
        "    print_decoded(beam_search_decoder, emission, \"beam size\", beam_size)"
      ]
    },
    {
      "cell_type": "markdown",
      "metadata": {
        "id": "ja8ZIPu7vex4"
      },
      "source": [
        "### beam size token\n",
        "\n",
        "The ``beam_size_token`` parameter corresponds to the number of tokens to\n",
        "consider for expanding each hypothesis at the decoding step. Exploring a\n",
        "larger number of next possible tokens increases the range of potential\n",
        "hypotheses at the cost of computation.\n",
        "\n",
        "\n"
      ]
    },
    {
      "cell_type": "code",
      "execution_count": null,
      "metadata": {
        "id": "G8VYZS5lvex4"
      },
      "outputs": [],
      "source": [
        "num_tokens = len(tokens)\n",
        "beam_size_tokens = [1, 5, 10, num_tokens]\n",
        "\n",
        "for beam_size_token in beam_size_tokens:\n",
        "    beam_search_decoder = ctc_decoder(\n",
        "        lexicon=files.lexicon,\n",
        "        tokens=files.tokens,\n",
        "        lm=files.lm,\n",
        "        beam_size_token=beam_size_token,\n",
        "        lm_weight=LM_WEIGHT,\n",
        "        word_score=WORD_SCORE,\n",
        "    )\n",
        "\n",
        "    print_decoded(beam_search_decoder, emission, \"beam size token\", beam_size_token)"
      ]
    },
    {
      "cell_type": "markdown",
      "metadata": {
        "id": "-KN0xfI6vex4"
      },
      "source": [
        "### beam threshold\n",
        "\n",
        "The ``beam_threshold`` parameter is used to prune the stored hypotheses\n",
        "set at each decoding step, removing hypotheses whose scores are greater\n",
        "than ``beam_threshold`` away from the highest scoring hypothesis. There\n",
        "is a balance between choosing smaller thresholds to prune more\n",
        "hypotheses and reduce the search space, and choosing a large enough\n",
        "threshold such that plausible hypotheses are not pruned.\n",
        "\n",
        "\n"
      ]
    },
    {
      "cell_type": "code",
      "execution_count": null,
      "metadata": {
        "id": "Ko9s_9xtvex4"
      },
      "outputs": [],
      "source": [
        "beam_thresholds = [1, 5, 10, 25]\n",
        "\n",
        "for beam_threshold in beam_thresholds:\n",
        "    beam_search_decoder = ctc_decoder(\n",
        "        lexicon=files.lexicon,\n",
        "        tokens=files.tokens,\n",
        "        lm=files.lm,\n",
        "        beam_threshold=beam_threshold,\n",
        "        lm_weight=LM_WEIGHT,\n",
        "        word_score=WORD_SCORE,\n",
        "    )\n",
        "\n",
        "    print_decoded(beam_search_decoder, emission, \"beam threshold\", beam_threshold)"
      ]
    },
    {
      "cell_type": "markdown",
      "metadata": {
        "id": "j3m4x67Zvex5"
      },
      "source": [
        "### language model weight\n",
        "\n",
        "The ``lm_weight`` parameter is the weight to assign to the language\n",
        "model score which to accumulate with the acoustic model score for\n",
        "determining the overall scores. Larger weights encourage the model to\n",
        "predict next words based on the language model, while smaller weights\n",
        "give more weight to the acoustic model score instead.\n",
        "\n",
        "\n"
      ]
    },
    {
      "cell_type": "code",
      "execution_count": null,
      "metadata": {
        "id": "MyC1bseOvex5"
      },
      "outputs": [],
      "source": [
        "lm_weights = [0, LM_WEIGHT, 15]\n",
        "\n",
        "for lm_weight in lm_weights:\n",
        "    beam_search_decoder = ctc_decoder(\n",
        "        lexicon=files.lexicon,\n",
        "        tokens=files.tokens,\n",
        "        lm=files.lm,\n",
        "        lm_weight=lm_weight,\n",
        "        word_score=WORD_SCORE,\n",
        "    )\n",
        "\n",
        "    print_decoded(beam_search_decoder, emission, \"lm weight\", lm_weight)"
      ]
    },
    {
      "cell_type": "markdown",
      "metadata": {
        "id": "MRS5kGkVvex5"
      },
      "source": [
        "### additional parameters\n",
        "\n",
        "Additional parameters that can be optimized include the following\n",
        "\n",
        "- ``word_score``: score to add when word finishes\n",
        "- ``unk_score``: unknown word appearance score to add\n",
        "- ``sil_score``: silence appearance score to add\n",
        "- ``log_add``: whether to use log add for lexicon Trie smearing\n",
        "\n",
        "\n"
      ]
    }
  ],
  "metadata": {
    "kernelspec": {
      "display_name": "Python 3",
      "language": "python",
      "name": "python3"
    },
    "language_info": {
      "codemirror_mode": {
        "name": "ipython",
        "version": 3
      },
      "file_extension": ".py",
      "mimetype": "text/x-python",
      "name": "python",
      "nbconvert_exporter": "python",
      "pygments_lexer": "ipython3",
      "version": "3.10.12"
    },
    "colab": {
      "provenance": []
    }
  },
  "nbformat": 4,
  "nbformat_minor": 0
}